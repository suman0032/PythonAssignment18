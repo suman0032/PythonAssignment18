{
 "cells": [
  {
   "cell_type": "code",
   "execution_count": 3,
   "metadata": {},
   "outputs": [],
   "source": [
    "import math\n",
    "import scipy.stats as st\n",
    "import pandas as pd"
   ]
  },
  {
   "cell_type": "code",
   "execution_count": 24,
   "metadata": {},
   "outputs": [
    {
     "data": {
      "text/plain": [
       "HighSchool    int64\n",
       "Bachelors     int64\n",
       "Masters       int64\n",
       "Ph.D          int64\n",
       "Total         int64\n",
       "dtype: object"
      ]
     },
     "execution_count": 24,
     "metadata": {},
     "output_type": "execute_result"
    }
   ],
   "source": [
    "#Problem 1:\n",
    "#Expected frequency under NULL hypothesis = (row Total * Column Total)/Sample size\n",
    "table={\"HighSchool\":[60,40,100],\"Bachelors\":[54,44,98],\"Masters\":[46,53,99],\"Ph.D\":[41,57,98],\"Total\":[201,194,395]}\n",
    "df=pd.DataFrame(table,index=[\"Female\",\"Male\",\"Total\"])\n",
    "df.dtypes"
   ]
  },
  {
   "cell_type": "code",
   "execution_count": 27,
   "metadata": {},
   "outputs": [
    {
     "data": {
      "text/html": [
       "<div>\n",
       "<style scoped>\n",
       "    .dataframe tbody tr th:only-of-type {\n",
       "        vertical-align: middle;\n",
       "    }\n",
       "\n",
       "    .dataframe tbody tr th {\n",
       "        vertical-align: top;\n",
       "    }\n",
       "\n",
       "    .dataframe thead th {\n",
       "        text-align: right;\n",
       "    }\n",
       "</style>\n",
       "<table border=\"1\" class=\"dataframe\">\n",
       "  <thead>\n",
       "    <tr style=\"text-align: right;\">\n",
       "      <th></th>\n",
       "      <th>HighSchool</th>\n",
       "      <th>Bachelors</th>\n",
       "      <th>Masters</th>\n",
       "      <th>Ph.D</th>\n",
       "      <th>Total</th>\n",
       "    </tr>\n",
       "  </thead>\n",
       "  <tbody>\n",
       "    <tr>\n",
       "      <th>Female</th>\n",
       "      <td>50.886076</td>\n",
       "      <td>49.868354</td>\n",
       "      <td>50.377215</td>\n",
       "      <td>49.868354</td>\n",
       "      <td>201.0</td>\n",
       "    </tr>\n",
       "    <tr>\n",
       "      <th>Male</th>\n",
       "      <td>49.113924</td>\n",
       "      <td>48.131646</td>\n",
       "      <td>48.622785</td>\n",
       "      <td>48.131646</td>\n",
       "      <td>194.0</td>\n",
       "    </tr>\n",
       "    <tr>\n",
       "      <th>Total</th>\n",
       "      <td>100.000000</td>\n",
       "      <td>98.000000</td>\n",
       "      <td>99.000000</td>\n",
       "      <td>98.000000</td>\n",
       "      <td>395.0</td>\n",
       "    </tr>\n",
       "  </tbody>\n",
       "</table>\n",
       "</div>"
      ],
      "text/plain": [
       "        HighSchool  Bachelors    Masters       Ph.D  Total\n",
       "Female   50.886076  49.868354  50.377215  49.868354  201.0\n",
       "Male     49.113924  48.131646  48.622785  48.131646  194.0\n",
       "Total   100.000000  98.000000  99.000000  98.000000  395.0"
      ]
     },
     "execution_count": 27,
     "metadata": {},
     "output_type": "execute_result"
    }
   ],
   "source": [
    "# table of expected values\n",
    "df2=df.astype(float)\n",
    "df2[\"HighSchool\"][\"Female\"]=(df[\"Total\"][\"Female\"]*df[\"HighSchool\"][\"Total\"])/395\n",
    "df2[\"HighSchool\"][\"Male\"]=(df[\"Total\"][\"Male\"]*df[\"HighSchool\"][\"Total\"])/395\n",
    "df2[\"Bachelors\"][\"Female\"]=(df[\"Total\"][\"Female\"]*df[\"Bachelors\"][\"Total\"])/395\n",
    "df2[\"Bachelors\"][\"Male\"]=(df[\"Total\"][\"Male\"]*df[\"Bachelors\"][\"Total\"])/395\n",
    "df2[\"Masters\"][\"Female\"]=(df[\"Total\"][\"Female\"]*df[\"Masters\"][\"Total\"])/395\n",
    "df2[\"Masters\"][\"Male\"]=(df[\"Total\"][\"Male\"]*df[\"Masters\"][\"Total\"])/395\n",
    "df2[\"Ph.D\"][\"Female\"]=(df[\"Total\"][\"Female\"]*df[\"Ph.D\"][\"Total\"])/395\n",
    "df2[\"Ph.D\"][\"Male\"]=(df[\"Total\"][\"Male\"]*df[\"Ph.D\"][\"Total\"])/395\n",
    "df2"
   ]
  }
 ],
 "metadata": {
  "kernelspec": {
   "display_name": "Python 3",
   "language": "python",
   "name": "python3"
  },
  "language_info": {
   "codemirror_mode": {
    "name": "ipython",
    "version": 3
   },
   "file_extension": ".py",
   "mimetype": "text/x-python",
   "name": "python",
   "nbconvert_exporter": "python",
   "pygments_lexer": "ipython3",
   "version": "3.6.5"
  }
 },
 "nbformat": 4,
 "nbformat_minor": 2
}
