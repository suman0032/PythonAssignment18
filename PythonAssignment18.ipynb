{
 "cells": [
  {
   "cell_type": "code",
   "execution_count": 10,
   "metadata": {},
   "outputs": [],
   "source": [
    "import math\n",
    "import scipy.stats as st\n",
    "import pandas as pd\n",
    "import numpy as np\n",
    "import statistics"
   ]
  },
  {
   "cell_type": "code",
   "execution_count": 2,
   "metadata": {},
   "outputs": [
    {
     "data": {
      "text/plain": [
       "HighSchool    int64\n",
       "Bachelors     int64\n",
       "Masters       int64\n",
       "Ph.D          int64\n",
       "Total         int64\n",
       "dtype: object"
      ]
     },
     "execution_count": 2,
     "metadata": {},
     "output_type": "execute_result"
    }
   ],
   "source": [
    "#Problem 1:\n",
    "#Expected frequency under NULL hypothesis = (row Total * Column Total)/Sample size\n",
    "table={\"HighSchool\":[60,40,100],\"Bachelors\":[54,44,98],\"Masters\":[46,53,99],\"Ph.D\":[41,57,98],\"Total\":[201,194,395]}\n",
    "df=pd.DataFrame(table,index=[\"Female\",\"Male\",\"Total\"])\n",
    "df.dtypes"
   ]
  },
  {
   "cell_type": "code",
   "execution_count": 3,
   "metadata": {},
   "outputs": [
    {
     "data": {
      "text/html": [
       "<div>\n",
       "<style scoped>\n",
       "    .dataframe tbody tr th:only-of-type {\n",
       "        vertical-align: middle;\n",
       "    }\n",
       "\n",
       "    .dataframe tbody tr th {\n",
       "        vertical-align: top;\n",
       "    }\n",
       "\n",
       "    .dataframe thead th {\n",
       "        text-align: right;\n",
       "    }\n",
       "</style>\n",
       "<table border=\"1\" class=\"dataframe\">\n",
       "  <thead>\n",
       "    <tr style=\"text-align: right;\">\n",
       "      <th></th>\n",
       "      <th>HighSchool</th>\n",
       "      <th>Bachelors</th>\n",
       "      <th>Masters</th>\n",
       "      <th>Ph.D</th>\n",
       "      <th>Total</th>\n",
       "    </tr>\n",
       "  </thead>\n",
       "  <tbody>\n",
       "    <tr>\n",
       "      <th>Female</th>\n",
       "      <td>50.886076</td>\n",
       "      <td>49.868354</td>\n",
       "      <td>50.377215</td>\n",
       "      <td>49.868354</td>\n",
       "      <td>201.0</td>\n",
       "    </tr>\n",
       "    <tr>\n",
       "      <th>Male</th>\n",
       "      <td>49.113924</td>\n",
       "      <td>48.131646</td>\n",
       "      <td>48.622785</td>\n",
       "      <td>48.131646</td>\n",
       "      <td>194.0</td>\n",
       "    </tr>\n",
       "    <tr>\n",
       "      <th>Total</th>\n",
       "      <td>100.000000</td>\n",
       "      <td>98.000000</td>\n",
       "      <td>99.000000</td>\n",
       "      <td>98.000000</td>\n",
       "      <td>395.0</td>\n",
       "    </tr>\n",
       "  </tbody>\n",
       "</table>\n",
       "</div>"
      ],
      "text/plain": [
       "        HighSchool  Bachelors    Masters       Ph.D  Total\n",
       "Female   50.886076  49.868354  50.377215  49.868354  201.0\n",
       "Male     49.113924  48.131646  48.622785  48.131646  194.0\n",
       "Total   100.000000  98.000000  99.000000  98.000000  395.0"
      ]
     },
     "execution_count": 3,
     "metadata": {},
     "output_type": "execute_result"
    }
   ],
   "source": [
    "# table of expected values\n",
    "df2=df.astype(float)\n",
    "df2[\"HighSchool\"][\"Female\"]=(df[\"Total\"][\"Female\"]*df[\"HighSchool\"][\"Total\"])/395\n",
    "df2[\"HighSchool\"][\"Male\"]=(df[\"Total\"][\"Male\"]*df[\"HighSchool\"][\"Total\"])/395\n",
    "df2[\"Bachelors\"][\"Female\"]=(df[\"Total\"][\"Female\"]*df[\"Bachelors\"][\"Total\"])/395\n",
    "df2[\"Bachelors\"][\"Male\"]=(df[\"Total\"][\"Male\"]*df[\"Bachelors\"][\"Total\"])/395\n",
    "df2[\"Masters\"][\"Female\"]=(df[\"Total\"][\"Female\"]*df[\"Masters\"][\"Total\"])/395\n",
    "df2[\"Masters\"][\"Male\"]=(df[\"Total\"][\"Male\"]*df[\"Masters\"][\"Total\"])/395\n",
    "df2[\"Ph.D\"][\"Female\"]=(df[\"Total\"][\"Female\"]*df[\"Ph.D\"][\"Total\"])/395\n",
    "df2[\"Ph.D\"][\"Male\"]=(df[\"Total\"][\"Male\"]*df[\"Ph.D\"][\"Total\"])/395\n",
    "df2"
   ]
  },
  {
   "cell_type": "markdown",
   "metadata": {},
   "source": [
    "#Formula of Chi-Square Test:\n",
    "X^2 = Sum[(O-E)^2] / E\n",
    "where O represents the observed frequency. E is the expected frequency under the null hypothesis "
   ]
  },
  {
   "cell_type": "code",
   "execution_count": 5,
   "metadata": {},
   "outputs": [
    {
     "data": {
      "text/plain": [
       "8.005907121109098"
      ]
     },
     "execution_count": 5,
     "metadata": {},
     "output_type": "execute_result"
    }
   ],
   "source": [
    "chi=((60-50.886)**2)/50.886\n",
    "chi=chi+(((40-49.114)**2)/49.114)+(((54-49.868)**2)/49.868)+(((44-48.132)**2)/48.132)+(((46-50.377)**2)/50.377)\n",
    "chi=chi+(((53-48.623)**2)/48.623)+(((41-49.868)**2)/49.868)+(((57-48.132)**2)/48.132)\n",
    "chi"
   ]
  },
  {
   "cell_type": "code",
   "execution_count": 7,
   "metadata": {},
   "outputs": [
    {
     "name": "stdout",
     "output_type": "stream",
     "text": [
      "The critical value of χ2 with 3 degree of freedom is 7.815.\n",
      "Since 8.006 > 7.815, therefore we reject the null hypothesis and \n",
      "conclude that the education level depends on gender at a 5% level of significance.\n"
     ]
    }
   ],
   "source": [
    "print(\"The critical value of χ2 with 3 degree of freedom is 7.815.\")\n",
    "print(\"Since 8.006 > 7.815, therefore we reject the null hypothesis and \")\n",
    "print(\"conclude that the education level depends on gender at a 5% level of significance.\")"
   ]
  },
  {
   "cell_type": "code",
   "execution_count": 15,
   "metadata": {},
   "outputs": [
    {
     "name": "stdout",
     "output_type": "stream",
     "text": [
      "Mean of group1 is 48.20\n",
      "Mean of group2 is 35.40\n",
      "Mean of group3 is 69.80\n"
     ]
    }
   ],
   "source": [
    "#problem 2:\n",
    "#Perform a oneway analysis of variance using α=.05 with given data. Write up the results in APA format.\n",
    "group1=[51, 45, 33, 45, 67]\n",
    "group2=[23, 43, 23, 43, 45]\n",
    "group3=[56, 76, 74, 87, 56]\n",
    "\n",
    "mean1=np.mean(group1)\n",
    "mean2=np.mean(group2)\n",
    "mean3=np.mean(group3)\n",
    "\n",
    "print(\"Mean of group1 is {:.2f}\".format(mean1))\n",
    "print(\"Mean of group2 is {:.2f}\".format(mean2))\n",
    "print(\"Mean of group3 is {:.2f}\".format(mean3))"
   ]
  },
  {
   "cell_type": "code",
   "execution_count": 14,
   "metadata": {},
   "outputs": [
    {
     "name": "stdout",
     "output_type": "stream",
     "text": [
      "Variance of means is 250.00\n",
      "Variance of individuals is 62.50\n",
      "The F test value is 4.00\n"
     ]
    }
   ],
   "source": [
    "#Problem 3:\n",
    "#Calculate F Test for given 10, 20, 30, 40, 50 and 5,10,15, 20, 25. For 10, 20, 30, 40, 50:\n",
    "\n",
    "#Variance for first set:\n",
    "\n",
    "val1=[10,20,30,40,50]\n",
    "std1=statistics.stdev(val1)\n",
    "\n",
    "#Variance for second set:\n",
    "\n",
    "val2=[5,10,15, 20, 25]\n",
    "std2=statistics.stdev(val2)\n",
    "\n",
    "#F-test = (Variance of means)/(Variance of individuals)\n",
    "F=((std1)**2)/((std2)**2)\n",
    "\n",
    "print(\"Variance of means is {:.2f}\".format((std1)**2))\n",
    "\n",
    "print(\"Variance of individuals is {:.2f}\".format((std2)**2))\n",
    "\n",
    "print(\"The F test value is {:.2f}\".format(F))"
   ]
  }
 ],
 "metadata": {
  "kernelspec": {
   "display_name": "Python 3",
   "language": "python",
   "name": "python3"
  },
  "language_info": {
   "codemirror_mode": {
    "name": "ipython",
    "version": 3
   },
   "file_extension": ".py",
   "mimetype": "text/x-python",
   "name": "python",
   "nbconvert_exporter": "python",
   "pygments_lexer": "ipython3",
   "version": "3.6.5"
  }
 },
 "nbformat": 4,
 "nbformat_minor": 2
}
